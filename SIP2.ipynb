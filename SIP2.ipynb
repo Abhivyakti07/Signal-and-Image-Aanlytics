{
  "nbformat": 4,
  "nbformat_minor": 0,
  "metadata": {
    "colab": {
      "provenance": []
    },
    "kernelspec": {
      "name": "python3",
      "display_name": "Python 3"
    },
    "language_info": {
      "name": "python"
    }
  },
  "cells": [
    {
      "cell_type": "code",
      "execution_count": null,
      "metadata": {
        "id": "BTzKdc-IXfYQ"
      },
      "outputs": [],
      "source": [
        "import wave"
      ]
    },
    {
      "cell_type": "code",
      "source": [
        "from google.colab import drive\n",
        "drive.mount('/content/drive')"
      ],
      "metadata": {
        "colab": {
          "base_uri": "https://localhost:8080/"
        },
        "id": "zypwwjCdYy2B",
        "outputId": "abe7090f-e31d-4541-a6bf-caa579f5b52a"
      },
      "execution_count": null,
      "outputs": [
        {
          "output_type": "stream",
          "name": "stdout",
          "text": [
            "Drive already mounted at /content/drive; to attempt to forcibly remount, call drive.mount(\"/content/drive\", force_remount=True).\n"
          ]
        }
      ]
    },
    {
      "cell_type": "code",
      "source": [
        "%cd '/content/drive/My Drive/Colab Notebooks'"
      ],
      "metadata": {
        "colab": {
          "base_uri": "https://localhost:8080/"
        },
        "id": "QEzPs6C7Z76l",
        "outputId": "f298acc2-9584-4e5a-fc08-0feda272c31c"
      },
      "execution_count": 7,
      "outputs": [
        {
          "output_type": "stream",
          "name": "stdout",
          "text": [
            "/content/drive/My Drive/Colab Notebooks\n"
          ]
        }
      ]
    },
    {
      "cell_type": "code",
      "source": [
        "obj = wave.open(\"/content/drive/MyDrive/Colab Notebooks/sip_lab2.wav\", \"rb\")"
      ],
      "metadata": {
        "id": "H7q8sg5Xad0u"
      },
      "execution_count": 12,
      "outputs": []
    },
    {
      "cell_type": "code",
      "source": [
        "print(\"No. of channels\", obj.getnchannels())\n",
        "print(\"Sample width\", obj.getsampwidth())\n",
        "print(\"Frame rate\", obj.getframerate())   # 44.1kHz  sample freq\n",
        "print(\"No. of frames\", obj.getnframes())\n",
        "print(\"No. of parameters\", obj.getparams())"
      ],
      "metadata": {
        "colab": {
          "base_uri": "https://localhost:8080/"
        },
        "id": "EXm2GzrnXkkp",
        "outputId": "e3563bb5-d52d-47d6-9d80-3d37611db70f"
      },
      "execution_count": 20,
      "outputs": [
        {
          "output_type": "stream",
          "name": "stdout",
          "text": [
            "No. of channels 2\n",
            "Sample width 2\n",
            "Frame rate 48000\n",
            "No. of frames 565248\n",
            "No. of parameters _wave_params(nchannels=2, sampwidth=2, framerate=48000, nframes=565248, comptype='NONE', compname='not compressed')\n"
          ]
        }
      ]
    },
    {
      "cell_type": "code",
      "source": [
        "t_audio = obj.getnframes() / obj.getframerate()   #total time duration of audio\n",
        "t_audio"
      ],
      "metadata": {
        "id": "_ByNEe6Xa9Z1",
        "outputId": "de8aafef-d7dc-4c48-de6f-087b1e8769a4",
        "colab": {
          "base_uri": "https://localhost:8080/"
        }
      },
      "execution_count": 21,
      "outputs": [
        {
          "output_type": "execute_result",
          "data": {
            "text/plain": [
              "11.776"
            ]
          },
          "metadata": {},
          "execution_count": 21
        }
      ]
    },
    {
      "cell_type": "code",
      "source": [
        "frames = obj.readframes(-1)\n",
        "obj_new = wave.open(\"new.wav\", \"wb\")\n",
        "obj_new.setnchannels(2)\n",
        "obj_new.setsampwidth(2)\n",
        "obj_new.setframerate(48000)\n",
        "\n",
        "obj_new.writeframes(frames)"
      ],
      "metadata": {
        "id": "dB_KL5kZbVGt"
      },
      "execution_count": 22,
      "outputs": []
    },
    {
      "cell_type": "code",
      "source": [
        "import matplotlib.pyplot as plt\n",
        "import numpy as np"
      ],
      "metadata": {
        "id": "w6otX8Sga1xW"
      },
      "execution_count": 24,
      "outputs": []
    },
    {
      "cell_type": "code",
      "source": [
        "import wave\n",
        "wav_obj = wave.open(\"/content/drive/MyDrive/Colab Notebooks/sip_lab2.wav\", 'rb')"
      ],
      "metadata": {
        "id": "E-qKXKiMhhIO"
      },
      "execution_count": 39,
      "outputs": []
    },
    {
      "cell_type": "code",
      "source": [
        "sample_freq = wav_obj.getframerate()\n",
        "sample_freq"
      ],
      "metadata": {
        "id": "NOHRx1emhoac",
        "outputId": "c6097d07-3f05-442a-c8a9-8ab76025cca9",
        "colab": {
          "base_uri": "https://localhost:8080/"
        }
      },
      "execution_count": 40,
      "outputs": [
        {
          "output_type": "execute_result",
          "data": {
            "text/plain": [
              "48000"
            ]
          },
          "metadata": {},
          "execution_count": 40
        }
      ]
    },
    {
      "cell_type": "code",
      "source": [
        "n_samples = wav_obj.getnframes()\n",
        "n_samples"
      ],
      "metadata": {
        "id": "yWcxAwu5hq7_",
        "outputId": "81643812-2011-492f-de22-381a044e4435",
        "colab": {
          "base_uri": "https://localhost:8080/"
        }
      },
      "execution_count": 41,
      "outputs": [
        {
          "output_type": "execute_result",
          "data": {
            "text/plain": [
              "565248"
            ]
          },
          "metadata": {},
          "execution_count": 41
        }
      ]
    },
    {
      "cell_type": "code",
      "source": [
        "t_audio = n_samples/sample_freq\n",
        "t_audio"
      ],
      "metadata": {
        "id": "Hlwowb3qhsBF",
        "outputId": "ec798c73-46fc-40f5-b67e-71139ecbe767",
        "colab": {
          "base_uri": "https://localhost:8080/"
        }
      },
      "execution_count": 42,
      "outputs": [
        {
          "output_type": "execute_result",
          "data": {
            "text/plain": [
              "11.776"
            ]
          },
          "metadata": {},
          "execution_count": 42
        }
      ]
    },
    {
      "cell_type": "code",
      "source": [
        "n_channels = wav_obj.getnchannels()\n",
        "n_channels\n"
      ],
      "metadata": {
        "id": "kizqD8Dyhvp2",
        "outputId": "755ef14e-5e13-414d-9c49-8da9db1eb5e8",
        "colab": {
          "base_uri": "https://localhost:8080/"
        }
      },
      "execution_count": 43,
      "outputs": [
        {
          "output_type": "execute_result",
          "data": {
            "text/plain": [
              "2"
            ]
          },
          "metadata": {},
          "execution_count": 43
        }
      ]
    },
    {
      "cell_type": "code",
      "source": [
        "signal_wave = wav_obj.readframes(n_samples)"
      ],
      "metadata": {
        "id": "31kpxA8rhyRu"
      },
      "execution_count": 44,
      "outputs": []
    },
    {
      "cell_type": "code",
      "source": [
        "import numpy as np\n",
        "signal_array = np.frombuffer(signal_wave, dtype=np.int16)"
      ],
      "metadata": {
        "id": "ei9xeuvrh1jU"
      },
      "execution_count": 45,
      "outputs": []
    },
    {
      "cell_type": "code",
      "source": [
        "l_channel = signal_array[0::2]\n",
        "r_channel = signal_array[1::2]"
      ],
      "metadata": {
        "id": "3vymWZvfh2lk"
      },
      "execution_count": 46,
      "outputs": []
    },
    {
      "cell_type": "code",
      "source": [
        "times = np.linspace(0, n_samples/sample_freq, num=n_samples)"
      ],
      "metadata": {
        "id": "b0kPzH64h5Ik"
      },
      "execution_count": 47,
      "outputs": []
    },
    {
      "cell_type": "code",
      "source": [
        "import matplotlib.pyplot as plt\n",
        "plt.figure(figsize=(15, 5))\n",
        "plt.plot(times, l_channel)\n",
        "plt.title('Left Channel')\n",
        "plt.ylabel('Signal Value')\n",
        "plt.xlabel('Time (s)')\n",
        "plt.xlim(0, t_audio)\n",
        "plt.show()"
      ],
      "metadata": {
        "id": "wUCV6nYTh7gE",
        "outputId": "982fe222-fc6d-4b29-ba09-d14952d7ba67",
        "colab": {
          "base_uri": "https://localhost:8080/",
          "height": 487
        }
      },
      "execution_count": 48,
      "outputs": [
        {
          "output_type": "display_data",
          "data": {
            "text/plain": [
              "<Figure size 1500x500 with 1 Axes>"
            ],
            "image/png": "[encoded data removed]"
          },
          "metadata": {}
        }
      ]
    },
    {
      "cell_type": "code",
      "source": [
        "import soundfile as sf\n",
        "\n",
        "# Read in audio file\n",
        "AUDIO_FILENAME = '/content/drive/MyDrive/Colab Notebooks/sip_lab2.wav'\n",
        "data, sample_rate = sf.read(AUDIO_FILENAME)\n",
        "\n",
        "# Calculate dB level\n",
        "rms = np.sqrt(np.mean(data ** 2))\n",
        "dB = 20 * np.log10(rms / 0.00002)\n",
        "\n",
        "print(\"dB level:\", dB)"
      ],
      "metadata": {
        "id": "BNpiDwIqiK2L",
        "outputId": "03b5c280-9c71-4e7d-87b6-24cf4f894441",
        "colab": {
          "base_uri": "https://localhost:8080/"
        }
      },
      "execution_count": 84,
      "outputs": [
        {
          "output_type": "stream",
          "name": "stdout",
          "text": [
            "dB level: 55.11349379317119\n"
          ]
        }
      ]
    },
    {
      "cell_type": "code",
      "source": [
        "%pip install sounddevice"
      ],
      "metadata": {
        "id": "mXllMUhdsxVR",
        "outputId": "01d681a0-27a0-4106-8976-02d81dd0b4af",
        "colab": {
          "base_uri": "https://localhost:8080/"
        }
      },
      "execution_count": 88,
      "outputs": [
        {
          "output_type": "stream",
          "name": "stdout",
          "text": [
            "Requirement already satisfied: sounddevice in /usr/local/lib/python3.10/dist-packages (0.4.6)\n",
            "Requirement already satisfied: CFFI>=1.0 in /usr/local/lib/python3.10/dist-packages (from sounddevice) (1.15.1)\n",
            "Requirement already satisfied: pycparser in /usr/local/lib/python3.10/dist-packages (from CFFI>=1.0->sounddevice) (2.21)\n"
          ]
        }
      ]
    },
    {
      "cell_type": "code",
      "source": [
        "import sounddevice as sd\n",
        "#play particular part of the audio\n",
        "# Load the audio file\n",
        "filename = '/content/drive/MyDrive/Colab Notebooks/sip_lab2.wav'\n",
        "data, sample_rate = sf.read(filename)\n",
        "\n",
        "# Set the start and end times (in seconds) of the section to play\n",
        "start_time = 1\n",
        "end_time = 10\n",
        "\n",
        "# Compute the start and end samples\n",
        "start_sample = int(start_time * sample_rate)\n",
        "end_sample = int(end_time * sample_rate)\n",
        "\n",
        "section_data = data[start_sample:end_sample]\n",
        "\n",
        "# Play the section of audio data\n",
        "sd.play(section_data, sample_rate)\n",
        "sd.wait()  # Wait for the playback to complete"
      ],
      "metadata": {
        "id": "h--i3qcxsiqL",
        "outputId": "99fbf329-190f-4b21-cdf4-9c44e642976e",
        "colab": {
          "base_uri": "https://localhost:8080/",
          "height": 375
        }
      },
      "execution_count": 97,
      "outputs": [
        {
          "output_type": "error",
          "ename": "OSError",
          "evalue": "ignored",
          "traceback": [
            "\u001b[0;31m---------------------------------------------------------------------------\u001b[0m",
            "\u001b[0;31mOSError\u001b[0m                                   Traceback (most recent call last)",
            "\u001b[0;32m<ipython-input-97-f9bf55363241>\u001b[0m in \u001b[0;36m<cell line: 1>\u001b[0;34m()\u001b[0m\n\u001b[0;32m----> 1\u001b[0;31m \u001b[0;32mimport\u001b[0m \u001b[0msounddevice\u001b[0m \u001b[0;32mas\u001b[0m \u001b[0msd\u001b[0m\u001b[0;34m\u001b[0m\u001b[0;34m\u001b[0m\u001b[0m\n\u001b[0m\u001b[1;32m      2\u001b[0m \u001b[0;31m#play particular part of the audio\u001b[0m\u001b[0;34m\u001b[0m\u001b[0;34m\u001b[0m\u001b[0m\n\u001b[1;32m      3\u001b[0m \u001b[0;31m# Load the audio file\u001b[0m\u001b[0;34m\u001b[0m\u001b[0;34m\u001b[0m\u001b[0m\n\u001b[1;32m      4\u001b[0m \u001b[0mfilename\u001b[0m \u001b[0;34m=\u001b[0m \u001b[0;34m'/content/drive/MyDrive/Colab Notebooks/sip_lab2.wav'\u001b[0m\u001b[0;34m\u001b[0m\u001b[0;34m\u001b[0m\u001b[0m\n\u001b[1;32m      5\u001b[0m \u001b[0mdata\u001b[0m\u001b[0;34m,\u001b[0m \u001b[0msample_rate\u001b[0m \u001b[0;34m=\u001b[0m \u001b[0msf\u001b[0m\u001b[0;34m.\u001b[0m\u001b[0mread\u001b[0m\u001b[0;34m(\u001b[0m\u001b[0mfilename\u001b[0m\u001b[0;34m)\u001b[0m\u001b[0;34m\u001b[0m\u001b[0;34m\u001b[0m\u001b[0m\n",
            "\u001b[0;32m/usr/local/lib/python3.10/dist-packages/sounddevice.py\u001b[0m in \u001b[0;36m<module>\u001b[0;34m\u001b[0m\n\u001b[1;32m     69\u001b[0m             \u001b[0;32mbreak\u001b[0m\u001b[0;34m\u001b[0m\u001b[0;34m\u001b[0m\u001b[0m\n\u001b[1;32m     70\u001b[0m     \u001b[0;32melse\u001b[0m\u001b[0;34m:\u001b[0m\u001b[0;34m\u001b[0m\u001b[0;34m\u001b[0m\u001b[0m\n\u001b[0;32m---> 71\u001b[0;31m         \u001b[0;32mraise\u001b[0m \u001b[0mOSError\u001b[0m\u001b[0;34m(\u001b[0m\u001b[0;34m'PortAudio library not found'\u001b[0m\u001b[0;34m)\u001b[0m\u001b[0;34m\u001b[0m\u001b[0;34m\u001b[0m\u001b[0m\n\u001b[0m\u001b[1;32m     72\u001b[0m     \u001b[0m_lib\u001b[0m \u001b[0;34m=\u001b[0m \u001b[0m_ffi\u001b[0m\u001b[0;34m.\u001b[0m\u001b[0mdlopen\u001b[0m\u001b[0;34m(\u001b[0m\u001b[0m_libname\u001b[0m\u001b[0;34m)\u001b[0m\u001b[0;34m\u001b[0m\u001b[0;34m\u001b[0m\u001b[0m\n\u001b[1;32m     73\u001b[0m \u001b[0;32mexcept\u001b[0m \u001b[0mOSError\u001b[0m\u001b[0;34m:\u001b[0m\u001b[0;34m\u001b[0m\u001b[0;34m\u001b[0m\u001b[0m\n",
            "\u001b[0;31mOSError\u001b[0m: PortAudio library not found"
          ]
        }
      ]
    },
    {
      "cell_type": "code",
      "source": [
        "from pydub import AudioSegment\n",
        "from pydub.playback import play\n",
        "\n",
        "# Read in audio file\n",
        "AUDIO_FILENAME = '/content/drive/MyDrive/Colab Notebooks/sip_lab2.wav'\n",
        "audio = AudioSegment.from_wav(AUDIO_FILENAME)\n",
        "\n",
        "# Define start and end times of segment to play\n",
        "start_time = 5000  # in milliseconds\n",
        "end_time = 10000  # in milliseconds\n",
        "\n",
        "# Extract segment of audio to play\n",
        "segment = audio[start_time:end_time]\n",
        "\n",
        "# Play audio segment\n",
        "play(segment)"
      ],
      "metadata": {
        "id": "WdhBZEjdunXa"
      },
      "execution_count": 101,
      "outputs": []
    },
    {
      "cell_type": "code",
      "source": [
        "%pip install playsound\n",
        "import playsound as ps"
      ],
      "metadata": {
        "id": "mB9l19Dtq9Ld",
        "outputId": "fae0430a-1eb8-460f-d30e-af4e7684508a",
        "colab": {
          "base_uri": "https://localhost:8080/"
        }
      },
      "execution_count": 76,
      "outputs": [
        {
          "output_type": "stream",
          "name": "stdout",
          "text": [
            "Collecting playsound\n",
            "  Downloading playsound-1.3.0.tar.gz (7.7 kB)\n",
            "  Preparing metadata (setup.py) ... \u001b[?25l\u001b[?25hdone\n",
            "Building wheels for collected packages: playsound\n",
            "  Building wheel for playsound (setup.py) ... \u001b[?25l\u001b[?25hdone\n",
            "  Created wheel for playsound: filename=playsound-1.3.0-py3-none-any.whl size=7019 sha256=7039b8ad7a67d07997a49eb68827741c476b0eb8219491aef96c7a0a88c9bd1f\n",
            "  Stored in directory: /root/.cache/pip/wheels/90/89/ed/2d643f4226fc8c7c9156fc28abd8051e2d2c0de37ae51ac45c\n",
            "Successfully built playsound\n",
            "Installing collected packages: playsound\n",
            "Successfully installed playsound-1.3.0\n"
          ]
        },
        {
          "output_type": "stream",
          "name": "stderr",
          "text": [
            "WARNING:playsound:playsound is relying on another python subprocess. Please use `pip install pygobject` if you want playsound to run more efficiently.\n"
          ]
        }
      ]
    },
    {
      "cell_type": "code",
      "source": [
        "\n",
        "# import required libraries\n",
        "from pydub import AudioSegment\n",
        "from pydub.playback import play\n",
        "\n",
        "# Import an audio file\n",
        "# Format parameter only\n",
        "# for readability\n",
        "wav_file = AudioSegment.from_file(file = '/content/drive/MyDrive/Colab Notebooks/sip_lab2.wav',\n",
        "                                  format = \"wav\")\n",
        "\n",
        "# Play the audio file\n",
        "play(wav_file)"
      ],
      "metadata": {
        "id": "lw2M2zdqrZBV"
      },
      "execution_count": 78,
      "outputs": []
    },
    {
      "cell_type": "code",
      "source": [
        "# import required libraries\n",
        "from pydub import AudioSegment\n",
        "from pydub.playback import play\n",
        "\n",
        "# Import an audio file\n",
        "# Format parameter only\n",
        "# for readability\n",
        "wav_file = AudioSegment.from_file(file = '/content/drive/MyDrive/Colab Notebooks/sip_lab2.wav',\n",
        "                                  format = \"wav\")\n",
        "\n",
        "# Play the audio file\n",
        "play(wav_file)"
      ],
      "metadata": {
        "id": "tdKP0MTOqpT1"
      },
      "execution_count": 74,
      "outputs": []
    },
    {
      "cell_type": "code",
      "source": [
        "%pip install vlc\n"
      ],
      "metadata": {
        "id": "QHuG8SovpeQo",
        "outputId": "c9015403-23ad-4c49-903c-afc52687e401",
        "colab": {
          "base_uri": "https://localhost:8080/"
        }
      },
      "execution_count": 65,
      "outputs": [
        {
          "output_type": "stream",
          "name": "stdout",
          "text": [
            "\u001b[31mERROR: Could not find a version that satisfies the requirement vlc (from versions: none)\u001b[0m\u001b[31m\n",
            "\u001b[0m\u001b[31mERROR: No matching distribution found for vlc\u001b[0m\u001b[31m\n",
            "\u001b[0m"
          ]
        }
      ]
    },
    {
      "cell_type": "code",
      "source": [
        "import vlc\n",
        "song = vlc.MediaPlayer('/content/drive/MyDrive/Colab Notebooks/sip_lab2.wav')\n",
        "song.play()\n",
        "song.set_time(10000)    # play at 10,000 ms (10 seconds)"
      ],
      "metadata": {
        "id": "lXUAt2TKpbVp",
        "outputId": "19290188-fb4e-4822-bcf1-5dee3b7a3a65",
        "colab": {
          "base_uri": "https://localhost:8080/",
          "height": 375
        }
      },
      "execution_count": 67,
      "outputs": [
        {
          "output_type": "error",
          "ename": "ModuleNotFoundError",
          "evalue": "ignored",
          "traceback": [
            "\u001b[0;31m---------------------------------------------------------------------------\u001b[0m",
            "\u001b[0;31mModuleNotFoundError\u001b[0m                       Traceback (most recent call last)",
            "\u001b[0;32m<ipython-input-67-226835526e4b>\u001b[0m in \u001b[0;36m<cell line: 1>\u001b[0;34m()\u001b[0m\n\u001b[0;32m----> 1\u001b[0;31m \u001b[0;32mimport\u001b[0m \u001b[0mvlc\u001b[0m\u001b[0;34m\u001b[0m\u001b[0;34m\u001b[0m\u001b[0m\n\u001b[0m\u001b[1;32m      2\u001b[0m \u001b[0msong\u001b[0m \u001b[0;34m=\u001b[0m \u001b[0mvlc\u001b[0m\u001b[0;34m.\u001b[0m\u001b[0mMediaPlayer\u001b[0m\u001b[0;34m(\u001b[0m\u001b[0;34m'/content/drive/MyDrive/Colab Notebooks/sip_lab2.wav'\u001b[0m\u001b[0;34m)\u001b[0m\u001b[0;34m\u001b[0m\u001b[0;34m\u001b[0m\u001b[0m\n\u001b[1;32m      3\u001b[0m \u001b[0msong\u001b[0m\u001b[0;34m.\u001b[0m\u001b[0mplay\u001b[0m\u001b[0;34m(\u001b[0m\u001b[0;34m)\u001b[0m\u001b[0;34m\u001b[0m\u001b[0;34m\u001b[0m\u001b[0m\n\u001b[1;32m      4\u001b[0m \u001b[0msong\u001b[0m\u001b[0;34m.\u001b[0m\u001b[0mset_time\u001b[0m\u001b[0;34m(\u001b[0m\u001b[0;36m10000\u001b[0m\u001b[0;34m)\u001b[0m    \u001b[0;31m# play at 10,000 ms (10 seconds)\u001b[0m\u001b[0;34m\u001b[0m\u001b[0;34m\u001b[0m\u001b[0m\n",
            "\u001b[0;31mModuleNotFoundError\u001b[0m: No module named 'vlc'",
            "",
            "\u001b[0;31m---------------------------------------------------------------------------\u001b[0;32m\nNOTE: If your import is failing due to a missing package, you can\nmanually install dependencies using either !pip or !apt.\n\nTo view examples of installing some common dependencies, click the\n\"Open Examples\" button below.\n\u001b[0;31m---------------------------------------------------------------------------\u001b[0m\n"
          ],
          "errorDetails": {
            "actions": [
              {
                "action": "open_url",
                "actionText": "Open Examples",
                "url": "/notebooks/snippets/importing_libraries.ipynb"
              }
            ]
          }
        }
      ]
    },
    {
      "cell_type": "code",
      "source": [],
      "metadata": {
        "id": "OvtNXWASotPT"
      },
      "execution_count": null,
      "outputs": []
    }
  ]
}